{
 "cells": [
  {
   "cell_type": "code",
   "execution_count": null,
   "id": "080bc0d7",
   "metadata": {
    "time_run": "11:17:23p"
   },
   "outputs": [],
   "source": [
    "from fastcore.foundation import patch"
   ]
  },
  {
   "cell_type": "code",
   "execution_count": null,
   "id": "b8bc5e5c",
   "metadata": {
    "hide_input": true,
    "time_run": "11:17:24p"
   },
   "outputs": [],
   "source": [
    "from pathlib import Path\n",
    "import remote_connect\n",
    "\n",
    "@patch(cls_method=True)\n",
    "def from_string(cls:remote_connect.VMSConnection, s):\n",
    "    \"Parse config string like 'host:port username password' and create connection_config.txt\"\n",
    "    parts = s.split()\n",
    "    host,port = parts[0].split(':')\n",
    "    config_lines = [\n",
    "        f\"hostname={host}\",\n",
    "        f\"port={port}\",\n",
    "        f\"username={parts[1]}\",\n",
    "        f\"password={parts[2]}\"\n",
    "    ]\n",
    "    Path('connection_config.txt').write_text('\\n'.join(config_lines))\n",
    "    print(f\"✓ Created connection_config.txt for {host}:{port} as {parts[1]}\")\n",
    "    return cls(hostname=host, port=int(port), username=parts[1], password=parts[2])"
   ]
  },
  {
   "cell_type": "code",
   "execution_count": null,
   "id": "e63077b9",
   "metadata": {
    "time_run": "11:17:25p"
   },
   "outputs": [],
   "source": [
    "@patch\n",
    "def show_browser(self:remote_connect.VMSConnection, path='.', current_path='.'):\n",
    "    if path == '..': new_path = str(Path(current_path).parent)\n",
    "    elif path == '.': new_path = current_path\n",
    "    else: new_path = str(Path(current_path) / path) if current_path != '.' else path\n",
    "    html = ssh_panel_html(self, new_path)\n",
    "    display(Javascript(f\"window.showSSHPanel(`{html}`)\"))"
   ]
  },
  {
   "cell_type": "code",
   "execution_count": null,
   "id": "db5f420d",
   "metadata": {
    "time_run": "11:17:26p"
   },
   "outputs": [
    {
     "name": "stdout",
     "output_type": "stream",
     "text": [
      "✓ Created connection_config.txt for 6.tcp.ngrok.io:18628 as solvituser\n",
      "hostname=6.tcp.ngrok.io\r\n",
      "port=18628\r\n",
      "username=solvituser\r\n",
      "password=1234"
     ]
    }
   ],
   "source": [
    "conn = remote_connect.VMSConnection.from_string(\"6.tcp.ngrok.io:18628 solvituser 1234\")\n",
    "!cat connection_config.txt"
   ]
  },
  {
   "cell_type": "code",
   "execution_count": null,
   "id": "785e4fb8",
   "metadata": {
    "time_run": "11:17:29p"
   },
   "outputs": [],
   "source": [
    "@patch \n",
    "def list_dir(self:remote_connect.VMSConnection, path='.'):\n",
    "    output, error, exit_code = self.execute(f'ls -lah {path}')\n",
    "    return output"
   ]
  },
  {
   "cell_type": "code",
   "execution_count": null,
   "id": "211c75d9",
   "metadata": {
    "collapsed": true,
    "time_run": "11:17:35p"
   },
   "outputs": [
    {
     "name": "stdout",
     "output_type": "stream",
     "text": [
      "✓ Connected to 6.tcp.ngrok.io (tmux session: vms_session)\n",
      "Creating virtual environment: my_venv\n",
      "$ python3 -m venv my_venv\n"
     ]
    },
    {
     "name": "stdout",
     "output_type": "stream",
     "text": [
      "✓ Virtual environment 'my_venv' created\n",
      "Installing packages: numpy, pandas\n",
      "$ source my_venv/bin/activate && pip install numpy pandas\n"
     ]
    },
    {
     "name": "stdout",
     "output_type": "stream",
     "text": [
      "Requirement already satisfied: numpy in ./my_venv/lib/python3.12/site-packages (2.3.4)\n",
      "Requirement already satisfied: pandas in ./my_venv/lib/python3.12/site-packages (2.3.3)\n",
      "Requirement already satisfied: python-dateutil>=2.8.2 in ./my_venv/lib/python3.12/site-packages (from pandas) (2.9.0.post0)\n",
      "Requirement already satisfied: pytz>=2020.1 in ./my_venv/lib/python3.12/site-packages (from pandas) (2025.2)\n",
      "Requirement already satisfied: tzdata>=2022.7 in ./my_venv/lib/python3.12/site-packages (from pandas) (2025.2)\n",
      "Requirement already satisfied: six>=1.5 in ./my_venv/lib/python3.12/site-packages (from python-dateutil>=2.8.2->pandas) (1.17.0)\n",
      "\n",
      "✓ Packages installed\n"
     ]
    },
    {
     "name": "stdout",
     "output_type": "stream",
     "text": [
      "✓ Wrote to script.py\n",
      "Running script.py in my_venv\n"
     ]
    },
    {
     "name": "stdout",
     "output_type": "stream",
     "text": [
      "Hello from remote!\n",
      "$ ls -la\n"
     ]
    },
    {
     "name": "stdout",
     "output_type": "stream",
     "text": [
      "total 56\n",
      "drwxr-x--- 7 solvituser solvituser 4096 Oct 16 22:42 .\n",
      "drwxr-xr-x 4 root       root       4096 Oct 15 14:42 ..\n",
      "-rw------- 1 solvituser solvituser 6444 Oct 16 20:59 .bash_history\n",
      "-rw-r--r-- 1 solvituser solvituser  220 Mar 31  2024 .bash_logout\n",
      "-rw-r--r-- 1 solvituser solvituser 3771 Mar 31  2024 .bashrc\n",
      "drwx------ 6 solvituser solvituser 4096 Oct 15 22:58 .cache\n",
      "drwx------ 4 solvituser solvituser 4096 Oct 15 22:34 .local\n",
      "drwxrwxr-x 5 solvituser solvituser 4096 Oct 16 20:12 my_venv\n",
      "-rw-r--r-- 1 solvituser solvituser  807 Mar 31  2024 .profile\n",
      "-rw-rw-r-- 1 solvituser solvituser   27 Oct 18 01:17 script.py\n",
      "drwx------ 4 solvituser solvituser 4096 Oct 17 00:00 snap\n",
      "drwx------ 2 solvituser solvituser 4096 Oct 16 14:27 .ssh\n",
      "-rw-rw-r-- 1 solvituser solvituser  104 Oct 16 20:28 test.py\n",
      "\n"
     ]
    }
   ],
   "source": [
    "remote_connect.setup_vms_connection('connection_config.txt')\n",
    "conn = remote_connect.vms_conn\n",
    "\n",
    "conn.create_venv('my_venv')\n",
    "conn.install_packages(['numpy', 'pandas'], 'my_venv')\n",
    "\n",
    "conn.write_file('script.py', 'print(\"Hello from remote!\")')\n",
    "conn.run_python_file('script.py', 'my_venv')\n",
    "\n",
    "conn.execute_and_print('ls -la')\n"
   ]
  },
  {
   "cell_type": "code",
   "execution_count": null,
   "id": "ed5d7fa7",
   "metadata": {
    "collapsed": true,
    "time_run": "11:00:54p"
   },
   "outputs": [
    {
     "name": "stdout",
     "output_type": "stream",
     "text": [
      "import paramiko\r\n",
      "import threading\r\n",
      "import time\r\n",
      "from IPython.core.magic import register_cell_magic\r\n",
      "from IPython import get_ipython\r\n",
      "\r\n",
      "\r\n",
      "class VMSConnection:\r\n",
      "    def __init__(self, hostname, username, password=None, key_filename=None, \r\n",
      "                 port=22, tmux_session='vms_session', venv_name='venv'):\r\n",
      "        self.hostname = hostname\r\n",
      "        self.username = username\r\n",
      "        self.password = password\r\n",
      "        self.key_filename = key_filename\r\n",
      "        self.port = port\r\n",
      "        self.tmux_session = tmux_session\r\n",
      "        self.venv_name = venv_name\r\n",
      "        \r\n",
      "        self.ssh_client = None\r\n",
      "        self.sftp_client = None\r\n",
      "        self.keepalive_thread = None\r\n",
      "        self.connected = False\r\n",
      "        \r\n",
      "    def connect(self):\r\n",
      "        try:\r\n",
      "            self.ssh_client = paramiko.SSHClient()\r\n",
      "            self.ssh_client.set_missing_host_key_policy(paramiko.AutoAddPolicy())\r\n",
      "            \r\n",
      "            connect_kwargs = {\r\n",
      "                'hostname': self.hostname,\r\n",
      "                'port': self.port,\r\n",
      "                'username': self.username,\r\n",
      "            }\r\n",
      "            \r\n",
      "            if self.password:\r\n",
      "                connect_kwargs['password'] = self.password\r\n",
      "            if self.key_filename:\r\n",
      "                connect_kwargs['key_filename'] = self.key_filename\r\n",
      "                \r\n",
      "            self.ssh_client.connect(**connect_kwargs)\r\n",
      "            self.sftp_client = self.ssh_client.open_sftp()\r\n",
      "            self._setup_tmux_session()\r\n",
      "            \r\n",
      "            self.connected = True\r\n",
      "            self.keepalive_thread = threading.Thread(target=self._keepalive, daemon=True)\r\n",
      "            self.keepalive_thread.start()\r\n",
      "            \r\n",
      "            print(f\"✓ Connected to {self.hostname} (tmux session: {self.tmux_session})\")\r\n",
      "            \r\n",
      "        except Exception as e:\r\n",
      "            print(f\"✗ Connection failed: {e}\")\r\n",
      "            raise\r\n",
      "            \r\n",
      "    def _setup_tmux_session(self):\r\n",
      "        check_cmd = f\"tmux has-session -t {self.tmux_session} 2>/dev/null\"\r\n",
      "        stdin, stdout, stderr = self.ssh_client.exec_command(check_cmd)\r\n",
      "        exit_code = stdout.channel.recv_exit_status()\r\n",
      "        \r\n",
      "        if exit_code != 0:\r\n",
      "            create_cmd = f\"tmux new-session -d -s {self.tmux_session}\"\r\n",
      "            self.ssh_client.exec_command(create_cmd)\r\n",
      "            print(f\"Creating default tmux session: {self.tmux_session}\")\r\n",
      "            \r\n",
      "        \r\n",
      "    def execute(self, command):\r\n",
      "        if not self.connected: raise RuntimeError(\"Not connected. Call connect() first.\")\r\n",
      "        stdin, stdout, stderr = self.ssh_client.exec_command(command)\r\n",
      "        output = stdout.read().decode('utf-8')\r\n",
      "        error = stderr.read().decode('utf-8')\r\n",
      "        exit_code = stdout.channel.recv_exit_status()\r\n",
      "        return output, error, exit_code\r\n",
      "\r\n",
      "    def run_python_file(self, filename, venv_name=None):\r\n",
      "        if venv_name is None: venv_name = self.venv_name\r\n",
      "        run_cmd = f\"source {venv_name}/bin/activate && python {filename}\"\r\n",
      "        print(f\"Running {filename} in {venv_name}\")\r\n",
      "        output, error, exit_code = self.execute(run_cmd)\r\n",
      "        if output: print(output.strip())\r\n",
      "        if error: print(f\"Error: {error.strip()}\")\r\n",
      "\r\n",
      "\r\n",
      "    def execute_and_print(self, commands):\r\n",
      "        for cmd in commands.strip().split('\\n'):\r\n",
      "            cmd = cmd.strip()\r\n",
      "            if not cmd or cmd.startswith('#'):\r\n",
      "                continue\r\n",
      "                \r\n",
      "            print(f\"$ {cmd}\")\r\n",
      "            output, error, exit_code = self.execute(cmd)\r\n",
      "            \r\n",
      "            if output:\r\n",
      "                print(output)\r\n",
      "            if error:\r\n",
      "                print(f\"Error: {error}\")\r\n",
      "                \r\n",
      "    def create_venv(self, venv_name=None):\r\n",
      "        if venv_name is None:\r\n",
      "            venv_name = self.venv_name\r\n",
      "            \r\n",
      "        print(f\"Creating virtual environment: {venv_name}\")\r\n",
      "        self.execute_and_print(f\"python3 -m venv {venv_name}\")\r\n",
      "        print(f\"✓ Virtual environment '{venv_name}' created\")\r\n",
      "        \r\n",
      "    def install_packages(self, packages, venv_name=None):\r\n",
      "        if venv_name is None:\r\n",
      "            venv_name = self.venv_name\r\n",
      "            \r\n",
      "        if isinstance(packages, str):\r\n",
      "            packages = [packages]\r\n",
      "            \r\n",
      "        pip_cmd = f\"source {venv_name}/bin/activate && pip install {' '.join(packages)}\"\r\n",
      "        print(f\"Installing packages: {', '.join(packages)}\")\r\n",
      "        self.execute_and_print(pip_cmd)\r\n",
      "        print(f\"✓ Packages installed\")\r\n",
      "        \r\n",
      "        \r\n",
      "    def write_and_run(self, filename, code, venv_name=None):\r\n",
      "        self.write_file(filename, code)\r\n",
      "        self.run_python_file(filename, venv_name)\r\n",
      "                \r\n",
      "    def write_file(self, remote_path, content):\r\n",
      "        if not self.connected:\r\n",
      "            raise RuntimeError(\"Not connected. Call connect() first.\")\r\n",
      "            \r\n",
      "        with self.sftp_client.open(remote_path, 'w') as f:\r\n",
      "            if isinstance(content, str):\r\n",
      "                content = content.encode('utf-8')\r\n",
      "            f.write(content)\r\n",
      "            \r\n",
      "        print(f\"✓ Wrote to {remote_path}\")\r\n",
      "        \r\n",
      "    def read_file(self, remote_path):\r\n",
      "        if not self.connected:\r\n",
      "            raise RuntimeError(\"Not connected. Call connect() first.\")\r\n",
      "            \r\n",
      "        with self.sftp_client.open(remote_path, 'r') as f:\r\n",
      "            content = f.read().decode('utf-8')\r\n",
      "            \r\n",
      "        return content\r\n",
      "        \r\n",
      "    def upload_file(self, local_path, remote_path):\r\n",
      "        if not self.connected:\r\n",
      "            raise RuntimeError(\"Not connected. Call connect() first.\")\r\n",
      "            \r\n",
      "        self.sftp_client.put(local_path, remote_path)\r\n",
      "        print(f\"✓ Uploaded {local_path} → {remote_path}\")\r\n",
      "        \r\n",
      "    def download_file(self, remote_path, local_path):\r\n",
      "        if not self.connected:\r\n",
      "            raise RuntimeError(\"Not connected. Call connect() first.\")\r\n",
      "            \r\n",
      "        self.sftp_client.get(remote_path, local_path)\r\n",
      "        print(f\"✓ Downloaded {remote_path} → {local_path}\")\r\n",
      "        \r\n",
      "    def _keepalive(self):\r\n",
      "        while self.connected:\r\n",
      "            try:\r\n",
      "                transport = self.ssh_client.get_transport()\r\n",
      "                if transport and transport.is_active():\r\n",
      "                    transport.send_ignore()\r\n",
      "                else:\r\n",
      "                    print(\"⚠ Connection lost\")\r\n",
      "                    self.connected = False\r\n",
      "                    break\r\n",
      "            except Exception as e:\r\n",
      "                print(f\"⚠ Keepalive error: {e}\")\r\n",
      "                self.connected = False\r\n",
      "                break\r\n",
      "                \r\n",
      "            time.sleep(60)\r\n",
      "            \r\n",
      "    def disconnect(self):\r\n",
      "        self.connected = False\r\n",
      "        \r\n",
      "        if self.sftp_client:\r\n",
      "            self.sftp_client.close()\r\n",
      "            \r\n",
      "        if self.ssh_client:\r\n",
      "            self.ssh_client.close()\r\n",
      "            \r\n",
      "        print(f\"✓ Disconnected from {self.hostname}\")\r\n",
      "\r\n",
      "\r\n",
      "vms_conn = None\r\n",
      "\r\n",
      "\r\n",
      "def load_config(config_file='connection_config.txt'):\r\n",
      "    config = {}\r\n",
      "    with open(config_file, 'r') as f:\r\n",
      "        for line in f:\r\n",
      "            line = line.strip()\r\n",
      "            if line and not line.startswith('#'):\r\n",
      "                key, value = line.split('=', 1)\r\n",
      "                config[key.strip()] = value.strip()\r\n",
      "    return config\r\n",
      "\r\n",
      "\r\n",
      "def setup_vms_connection(config_file='connection_config.txt'):\r\n",
      "    global vms_conn\r\n",
      "    \r\n",
      "    config = load_config(config_file)\r\n",
      "    \r\n",
      "    vms_conn = VMSConnection(\r\n",
      "        hostname=config.get('hostname'),\r\n",
      "        username=config.get('username'),\r\n",
      "        password=config.get('password'),\r\n",
      "        key_filename=config.get('key_filename'),\r\n",
      "        port=int(config.get('port', 22)),\r\n",
      "        tmux_session=config.get('tmux_session', 'vms_session'),\r\n",
      "        venv_name=config.get('venv_name', 'venv')\r\n",
      "    )\r\n",
      "    \r\n",
      "    vms_conn.connect()\r\n",
      "    \r\n",
      "    @register_cell_magic\r\n",
      "    def vms(line, cell):\r\n",
      "        if vms_conn is None or not vms_conn.connected:\r\n",
      "            print(\"✗ Not connected. Run setup_vms_connection() first.\")\r\n",
      "            return\r\n",
      "        \r\n",
      "        line = line.strip()\r\n",
      "        \r\n",
      "        if line:\r\n",
      "            parts = line.split()\r\n",
      "            if len(parts) == 2:\r\n",
      "                venv_name, filename = parts[0], parts[1]\r\n",
      "                vms_conn.write_and_run(filename, cell, venv_name)\r\n",
      "            else:\r\n",
      "                vms_conn.execute_and_print(cell)\r\n",
      "        else:\r\n",
      "            vms_conn.execute_and_print(cell)\r\n"
     ]
    }
   ],
   "source": [
    "!cat remote_connect.py"
   ]
  },
  {
   "cell_type": "markdown",
   "id": "35031add",
   "metadata": {},
   "source": [
    "# Remote GUI"
   ]
  },
  {
   "cell_type": "code",
   "execution_count": null,
   "id": "4cd5f4bb",
   "metadata": {
    "time_run": "11:22:41p"
   },
   "outputs": [],
   "source": [
    "iife('''\n",
    "const main = document.querySelector('main');\n",
    "let container = main.querySelector('#ssh-panel-container');\n",
    "if (container) container.remove();\n",
    "\n",
    "container = document.createElement('div');\n",
    "container.id = 'ssh-panel-container';\n",
    "container.innerHTML = `\n",
    "    <div id=\"ssh-sb\" class=\"fixed right-0 top-0 h-screen bg-white shadow-2xl border-l border-gray-300\" style=\"width: 40vw; z-index: 1000; display: block;\">\n",
    "        <div id=\"ssh-content\" class=\"h-full\"></div>\n",
    "    </div>\n",
    "`;\n",
    "main.appendChild(container);\n",
    "\n",
    "window.showSSHPanel = function(html) {\n",
    "    const content = document.getElementById('ssh-content');\n",
    "    if (content) {\n",
    "        content.innerHTML = html;\n",
    "        document.getElementById('ssh-sb').style.display = 'block';\n",
    "    }\n",
    "};\n",
    "\n",
    "window.navigateSSH = function(path, currentPath) {\n",
    "    const code = `conn.show_browser('${path}', '${currentPath}')`;\n",
    "    Jupyter.notebook.kernel.execute(code);\n",
    "};\n",
    "\n",
    "window.closePanel = function() {\n",
    "    document.getElementById('ssh-sb').style.display = 'none';\n",
    "};\n",
    "\n",
    "console.log('SSH panel setup complete');\n",
    "''')"
   ]
  },
  {
   "cell_type": "code",
   "execution_count": null,
   "id": "9186fcbd",
   "metadata": {
    "time_run": "11:22:42p"
   },
   "outputs": [
    {
     "data": {
      "application/javascript": [
       "window.showSSHPanel(`<div class=\"p-4 relative\"><button onclick=\"closePanel()\" class=\"absolute top-4 right-4 text-2xl\">&times;</button><h2 class=\"text-xl font-bold mb-4\">Remote: .</h2><button onclick=\"navigateSSH('..', '.')\" class=\"mb-4 px-4 py-2 bg-blue-500 text-white rounded\">↑ Parent</button><div class=\"p-2 hover:bg-gray-100 cursor-pointer border-b\" onclick=\"navigateSSH('.', '.')\">drwxr-x--- |       4.0K | .</div><div class=\"p-2 hover:bg-gray-100 cursor-pointer border-b\" onclick=\"navigateSSH('..', '.')\">drwxr-xr-x |       4.0K | ..</div><div class=\"p-2 hover:bg-gray-100  border-b\" >-rw------- |       6.3K | .bash_history</div><div class=\"p-2 hover:bg-gray-100  border-b\" >-rw-r--r-- |        220 | .bash_logout</div><div class=\"p-2 hover:bg-gray-100  border-b\" >-rw-r--r-- |       3.7K | .bashrc</div><div class=\"p-2 hover:bg-gray-100 cursor-pointer border-b\" onclick=\"navigateSSH('.cache', '.')\">drwx------ |       4.0K | .cache</div><div class=\"p-2 hover:bg-gray-100 cursor-pointer border-b\" onclick=\"navigateSSH('.local', '.')\">drwx------ |       4.0K | .local</div><div class=\"p-2 hover:bg-gray-100 cursor-pointer border-b\" onclick=\"navigateSSH('my_venv', '.')\">drwxrwxr-x |       4.0K | my_venv</div><div class=\"p-2 hover:bg-gray-100  border-b\" >-rw-r--r-- |        807 | .profile</div><div class=\"p-2 hover:bg-gray-100  border-b\" >-rw-rw-r-- |         27 | script.py</div><div class=\"p-2 hover:bg-gray-100 cursor-pointer border-b\" onclick=\"navigateSSH('snap', '.')\">drwx------ |       4.0K | snap</div><div class=\"p-2 hover:bg-gray-100 cursor-pointer border-b\" onclick=\"navigateSSH('.ssh', '.')\">drwx------ |       4.0K | .ssh</div><div class=\"p-2 hover:bg-gray-100  border-b\" >-rw-rw-r-- |        104 | test.py</div></div>`)"
      ],
      "text/plain": [
       "<IPython.core.display.Javascript object>"
      ]
     },
     "metadata": {},
     "output_type": "display_data"
    }
   ],
   "source": [
    "conn.show_browser()"
   ]
  },
  {
   "cell_type": "markdown",
   "id": "916604a5",
   "metadata": {
    "solveit_ai": true
   },
   "source": [
    "ok so here we have a display working. \n",
    "The files are displaying properly.\n",
    "How do we navigate with the gui. Explain mechanistically\n",
    "\n",
    "##### 🤖Reply🤖<!-- SOLVEIT_SEPARATOR_7f3a9b2c -->\n",
    "\n",
    "Here's how the navigation works mechanistically:\n",
    "\n",
    "**1. HTML Generation (Python side)**\n",
    "When you call `conn.show_browser(path, current_path)`, it generates HTML with clickable elements that have `onclick` handlers like:\n",
    "```javascript\n",
    "onclick=\"navigateSSH('subfolder', '/current/path')\"\n",
    "```\n",
    "\n",
    "**2. JavaScript Bridge**\n",
    "The `navigateSSH` function (defined in your `iife()` setup) receives the click and executes Python code in the Jupyter kernel:\n",
    "```javascript\n",
    "window.navigateSSH = function(path, currentPath) {\n",
    "    Jupyter.notebook.kernel.execute(`conn.show_browser('${path}', '${currentPath}')`);\n",
    "};\n",
    "```\n",
    "\n",
    "**3. Python Execution**\n",
    "This triggers `conn.show_browser()` again with the new path, which:\n",
    "- Calculates the new directory (handles `..` for parent, `.` for current, or appends the folder name)\n",
    "- Calls `list_dir()` on the remote server via SSH\n",
    "- Generates new HTML with the updated listing\n",
    "- Calls `display(Javascript(...))` to update the panel\n",
    "\n",
    "**4. Panel Update**\n",
    "The JavaScript calls `window.showSSHPanel(html)` which replaces the `#ssh-content` div's innerHTML with the new file listing.\n",
    "\n",
    "So it's a loop: **Click → JS → Python → SSH → HTML → JS → Update Panel**\n",
    "\n",
    "To make this work, you need to add `onclick` handlers to your directory items in `ssh_panel_html()`. Want to add that now?"
   ]
  }
 ],
 "metadata": {
  "solveit_dialog_mode": "concise",
  "solveit_ver": 2
 },
 "nbformat": 4,
 "nbformat_minor": 5
}